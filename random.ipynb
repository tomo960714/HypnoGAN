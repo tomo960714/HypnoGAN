{
 "cells": [
  {
   "cell_type": "code",
   "execution_count": 1,
   "metadata": {},
   "outputs": [],
   "source": [
    "import pandas as pd\n",
    "import scipy.io as sio\n",
    "import matplotlib.pyplot as plt\n",
    "import numpy as np\n",
    "\n",
    "mat = sio.loadmat('Data/SHHS.mat',simplify_cells=True)"
   ]
  },
  {
   "cell_type": "code",
   "execution_count": null,
   "metadata": {},
   "outputs": [],
   "source": [
    "print(mat.keys())\n",
    "print(list(mat.keys()).find('hypnograms'))\n",
    "mat['hypnograms']\n",
    "mat['hypnograms'][0]\n",
    "df = pd.DataFrame(mat['hypnograms'])\n",
    "#print(df)"
   ]
  },
  {
   "cell_type": "code",
   "execution_count": 16,
   "metadata": {},
   "outputs": [
    {
     "name": "stdout",
     "output_type": "stream",
     "text": [
      "0       [0, 0, 0, 0, 0, 0, 0, 0, 0, 0, 0, 0, 0, 0, 0, ...\n",
      "1       [3, 3, 3, 3, 3, 3, 3, 3, 3, 0, 3, 3, 3, 3, 3, ...\n",
      "2       [0, 0, 0, 0, 0, 0, 0, 0, 0, 0, 0, 0, 0, 0, 0, ...\n",
      "3       [0, 0, 0, 0, 0, 0, 0, 0, 0, 0, 0, 0, 0, 0, 0, ...\n",
      "4       [0, 0, 0, 0, 0, 0, 0, 0, 0, 0, 0, 0, 0, 0, 0, ...\n",
      "                              ...                        \n",
      "8439    [1, 1, 1, 1, 1, 1, 1, 1, 1, 1, 1, 1, 1, 1, 1, ...\n",
      "8440    [0, 0, 0, 0, 0, 0, 0, 0, 0, 0, 0, 0, 0, 0, 0, ...\n",
      "8441    [0, 0, 0, 0, 0, 0, 0, 0, 0, 0, 0, 0, 0, 0, 0, ...\n",
      "8442    [0, 0, 0, 0, 0, 0, 0, 0, 0, 0, 0, 0, 0, 0, 0, ...\n",
      "8443    [0, 0, 0, 0, 0, 0, 0, 0, 0, 0, 0, 0, 0, 0, 0, ...\n",
      "Name: 0, Length: 8444, dtype: object\n",
      "0       [0.0, 0.0, 0.0, 0.0, 0.0, 0.0, 0.0, 0.0, 0.0, ...\n",
      "1       [0.75, 0.75, 0.75, 0.75, 0.75, 0.75, 0.75, 0.7...\n",
      "2       [0.0, 0.0, 0.0, 0.0, 0.0, 0.0, 0.0, 0.0, 0.0, ...\n",
      "3       [0.0, 0.0, 0.0, 0.0, 0.0, 0.0, 0.0, 0.0, 0.0, ...\n",
      "4       [0.0, 0.0, 0.0, 0.0, 0.0, 0.0, 0.0, 0.0, 0.0, ...\n",
      "                              ...                        \n",
      "8439    [0.25, 0.25, 0.25, 0.25, 0.25, 0.25, 0.25, 0.2...\n",
      "8440    [0.0, 0.0, 0.0, 0.0, 0.0, 0.0, 0.0, 0.0, 0.0, ...\n",
      "8441    [0.0, 0.0, 0.0, 0.0, 0.0, 0.0, 0.0, 0.0, 0.0, ...\n",
      "8442    [0.0, 0.0, 0.0, 0.0, 0.0, 0.0, 0.0, 0.0, 0.0, ...\n",
      "8443    [0.0, 0.0, 0.0, 0.0, 0.0, 0.0, 0.0, 0.0, 0.0, ...\n",
      "Name: 0, Length: 8444, dtype: object\n"
     ]
    }
   ],
   "source": [
    "from sklearn.preprocessing import MinMaxScaler\n",
    "\n",
    "df = pd.DataFrame(mat['hypnograms'])\n",
    "# print(df)\n",
    "min_value = 1\n",
    "max_value = 5\n",
    "\n",
    "numerator = df[0]-min_value\n",
    "print(numerator)\n",
    "denominator = max_value-min_value\n",
    "df[0] = numerator/denominator\n",
    "print(df[0])\n",
    "\n"
   ]
  },
  {
   "cell_type": "code",
   "execution_count": null,
   "metadata": {},
   "outputs": [],
   "source": [
    "if 'hypnogram' in list(mat.keys()):\n",
    "    print('yes')\n",
    "else:\n",
    "    print('no')\n"
   ]
  },
  {
   "cell_type": "code",
   "execution_count": null,
   "metadata": {},
   "outputs": [],
   "source": [
    "from tkinter import *\n",
    "from tkinter.ttk import * \n",
    "root = Tk()\n",
    "root.title('.mat variable selector')\n",
    "Label(root, text=\"Choose a variable:\").pack()\n",
    "choices = list(mat.keys())\n",
    "\n",
    "variable = StringVar(root)\n",
    "variable.set(choices[0]) # default value\n",
    "w = Combobox(root, textvariable=variable,values=choices)\n",
    "\n",
    "w.pack()\n",
    "def ok():\n",
    "    print (\"value is:\" + variable.get())\n",
    "    root.destroy()\n",
    "def cancel():\n",
    "    root.destroy()\n",
    "    raise InterruptedError('User cancelled, invalid variable name')\n",
    "\n",
    "Button(root, text=\"OK\", command=ok).pack()\n",
    "Button(root, text=\"Cancel\", command=cancel).pack()\n",
    "\n",
    "#\n",
    "#\n",
    "\n",
    "root.mainloop()\n"
   ]
  },
  {
   "cell_type": "code",
   "execution_count": null,
   "metadata": {},
   "outputs": [],
   "source": [
    "#https://stackoverflow.com/questions/45441885/how-can-i-create-a-dropdown-menu-from-a-list-in-tkinter\n",
    "\n",
    "from tkinter import *\n",
    "master = Tk()\n",
    "options = list(mat.keys())\n",
    "variable = StringVar(master)\n",
    "variable.set(options[0]) # default value\n",
    "w = option = OptionMenu(master, variable, *options)\n",
    "w.pack()\n",
    "\n",
    "def ok():\n",
    "    print(\"variable name is:\" + variable.get())\n",
    "button = Button(master,text = \"OK\", command = ok)\n",
    "button.pack()\n",
    "mainloop()"
   ]
  },
  {
   "cell_type": "code",
   "execution_count": null,
   "metadata": {},
   "outputs": [],
   "source": [
    "from Data import data_loading \n",
    "import os\n",
    "path = os.path.join('Data\\'','Data\\SHHS.mat')\n",
    "data_loading.load_mat_as_df(path,'hypnograms')"
   ]
  },
  {
   "cell_type": "code",
   "execution_count": null,
   "metadata": {},
   "outputs": [],
   "source": [
    "from tkinter import Tk\n",
    "from tkinter.filedialog import askopenfilenames\n",
    "Tk().withdraw() # we don't want a full GUI, so keep the root window from appearing\n",
    "filenames = askopenfilenames() # show an \"Open\" dialog box and return the path to the selected file\n",
    "print(filenames)\n",
    "print(type(filenames))\n",
    "for filename in filenames:\n",
    "    print(type(filename))\n",
    "    if filename.endswith(\".py\"):\n",
    "        print('yes')\n",
    "    else:\n",
    "        print('no')"
   ]
  },
  {
   "cell_type": "code",
   "execution_count": null,
   "metadata": {},
   "outputs": [],
   "source": [
    "from tkinter import Tk\n",
    "from tkinter.filedialog import askopenfilename\n",
    "Tk().withdraw() # we don't want a full GUI, so keep the root window from appearing\n",
    "filename = askopenfilename(mode='r',filetypes=[(\"Excel file\",\"*.xls\")],title='Choose an excel file')\n",
    "if filename != None:\n",
    "    print (\"This excel file has been selected\", file)\n",
    "print(type(filename))"
   ]
  },
  {
   "cell_type": "code",
   "execution_count": null,
   "metadata": {},
   "outputs": [],
   "source": [
    "import pandas as pd\n",
    "import numpy as np\n",
    "\n",
    "df = pd.DataFrame({'time': [[1,2,3,4,5,6],[1,2,3,4,5,6],[1,2,3,4,5,6],[1,2,3,4,5,6]],'data': [[1,2], [2,8],[1,2], [2,8]]})\n",
    "print(df)\n",
    "print(df.columns)\n",
    "# get the length of the dataframe:\n",
    "n = df['time'].shape[0]\n",
    "# get the length of the time series:\n"
   ]
  },
  {
   "cell_type": "code",
   "execution_count": null,
   "metadata": {},
   "outputs": [],
   "source": [
    "print(df['data'][0])\n",
    "if all(elem in [1,2] for elem in df['data']):\n",
    "    print('yes')\n",
    "else:\n",
    "    print('no')\n",
    "\n",
    "sleep_stages = np.array([1,2,3,4,5])\n",
    "tmp = df[df['data'].apply(lambda x: all(elem in sleep_stages for elem in x))]\n",
    "print(tmp)\n"
   ]
  },
  {
   "cell_type": "code",
   "execution_count": null,
   "metadata": {},
   "outputs": [],
   "source": [
    "import numpy as np\n",
    "array = [[1,2],[2,3]]\n",
    "uniq_id = np.unique(array)\n",
    "print(uniq_id)"
   ]
  },
  {
   "cell_type": "code",
   "execution_count": null,
   "metadata": {},
   "outputs": [],
   "source": [
    "import pandas as pd\n",
    "ori_data = pd.read_csv('stock.csv')\n",
    "print(ori_data.shape)\n",
    "no = ori_data.shape[0]"
   ]
  },
  {
   "cell_type": "code",
   "execution_count": null,
   "metadata": {},
   "outputs": [],
   "source": [
    "from data_preprocess import data_preprocess\n",
    "X,T,y,max_len,padding_val = data_preprocess('stock.csv',100)"
   ]
  },
  {
   "cell_type": "code",
   "execution_count": null,
   "metadata": {},
   "outputs": [],
   "source": [
    "print(T[0])"
   ]
  },
  {
   "cell_type": "code",
   "execution_count": null,
   "metadata": {},
   "outputs": [],
   "source": [
    "import mne\n",
    "import numpy as np\n",
    "raw_data = mne.io.read_raw_edf('Data/shhs2-200077.edf')\n",
    "data = raw_data.get_data()\n",
    "#print(data)\n",
    "info = raw_data.info\n",
    "channels = raw_data.ch_names\n",
    "print(\"info:\",info)\n",
    "print(\"ch:\",channels)"
   ]
  }
 ],
 "metadata": {
  "kernelspec": {
   "display_name": "Python 3",
   "language": "python",
   "name": "python3"
  },
  "language_info": {
   "codemirror_mode": {
    "name": "ipython",
    "version": 3
   },
   "file_extension": ".py",
   "mimetype": "text/x-python",
   "name": "python",
   "nbconvert_exporter": "python",
   "pygments_lexer": "ipython3",
   "version": "3.10.10"
  },
  "orig_nbformat": 4
 },
 "nbformat": 4,
 "nbformat_minor": 2
}
