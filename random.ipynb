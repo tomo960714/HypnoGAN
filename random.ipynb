{
 "cells": [
  {
   "cell_type": "code",
   "execution_count": null,
   "metadata": {},
   "outputs": [],
   "source": [
    "import pandas as pd\n",
    "import scipy.io as sio\n",
    "import matplotlib.pyplot as plt\n",
    "import numpy as np\n",
    "\n",
    "mat = sio.loadmat('Data/SHHS.mat',simplify_cells=True)"
   ]
  },
  {
   "cell_type": "code",
   "execution_count": null,
   "metadata": {},
   "outputs": [],
   "source": [
    "print(mat.keys())\n",
    "print(list(mat.keys()).find('hypnograms'))\n",
    "mat['hypnograms']\n",
    "mat['hypnograms'][0]\n",
    "df = pd.DataFrame(mat['hypnograms'])\n",
    "#print(df)"
   ]
  },
  {
   "cell_type": "code",
   "execution_count": null,
   "metadata": {},
   "outputs": [],
   "source": [
    "if 'hypnogram' in list(mat.keys()):\n",
    "    print('yes')\n",
    "else:\n",
    "    print('no')\n"
   ]
  },
  {
   "cell_type": "code",
   "execution_count": null,
   "metadata": {},
   "outputs": [],
   "source": [
    "from tkinter import *\n",
    "from tkinter.ttk import * \n",
    "root = Tk()\n",
    "root.title('.mat variable selector')\n",
    "Label(root, text=\"Choose a variable:\").pack()\n",
    "choices = list(mat.keys())\n",
    "\n",
    "variable = StringVar(root)\n",
    "variable.set(choices[0]) # default value\n",
    "w = Combobox(root, textvariable=variable,values=choices)\n",
    "\n",
    "w.pack()\n",
    "def ok():\n",
    "    print (\"value is:\" + variable.get())\n",
    "    root.destroy()\n",
    "def cancel():\n",
    "    root.destroy()\n",
    "    raise InterruptedError('User cancelled, invalid variable name')\n",
    "\n",
    "Button(root, text=\"OK\", command=ok).pack()\n",
    "Button(root, text=\"Cancel\", command=cancel).pack()\n",
    "\n",
    "#\n",
    "#\n",
    "\n",
    "root.mainloop()\n"
   ]
  },
  {
   "cell_type": "code",
   "execution_count": null,
   "metadata": {},
   "outputs": [],
   "source": [
    "#https://stackoverflow.com/questions/45441885/how-can-i-create-a-dropdown-menu-from-a-list-in-tkinter\n",
    "\n",
    "from tkinter import *\n",
    "master = Tk()\n",
    "options = list(mat.keys())\n",
    "variable = StringVar(master)\n",
    "variable.set(options[0]) # default value\n",
    "w = option = OptionMenu(master, variable, *options)\n",
    "w.pack()\n",
    "\n",
    "def ok():\n",
    "    print(\"variable name is:\" + variable.get())\n",
    "button = Button(master,text = \"OK\", command = ok)\n",
    "button.pack()\n",
    "mainloop()"
   ]
  },
  {
   "cell_type": "code",
   "execution_count": null,
   "metadata": {},
   "outputs": [],
   "source": [
    "from utils import load_mat_as_df \n",
    "import os\n",
    "path = os.path.join('Data\\'','SHHS.mat')\n",
    "load_mat_as_df(path,'hypnograms')"
   ]
  },
  {
   "cell_type": "code",
   "execution_count": 17,
   "metadata": {},
   "outputs": [
    {
     "name": "stdout",
     "output_type": "stream",
     "text": [
      "('C:/Users/tomo9/Documents/00_School/00_Thesis/HypnoGAN/.gitignore', 'C:/Users/tomo9/Documents/00_School/00_Thesis/HypnoGAN/random.ipynb')\n"
     ]
    }
   ],
   "source": [
    "from tkinter import Tk\n",
    "from tkinter.filedialog import askopenfilenames\n",
    "Tk().withdraw() # we don't want a full GUI, so keep the root window from appearing\n",
    "filename = askopenfilenames() # show an \"Open\" dialog box and return the path to the selected file\n",
    "print(filename)"
   ]
  },
  {
   "cell_type": "code",
   "execution_count": 15,
   "metadata": {},
   "outputs": [
    {
     "ename": "TclError",
     "evalue": "can't invoke \"tk_getOpenFile\" command: application has been destroyed",
     "output_type": "error",
     "traceback": [
      "\u001b[1;31m---------------------------------------------------------------------------\u001b[0m",
      "\u001b[1;31mTclError\u001b[0m                                  Traceback (most recent call last)",
      "Cell \u001b[1;32mIn[15], line 4\u001b[0m\n\u001b[0;32m      2\u001b[0m \u001b[39mfrom\u001b[39;00m \u001b[39mtkinter\u001b[39;00m\u001b[39m.\u001b[39;00m\u001b[39mfiledialog\u001b[39;00m \u001b[39mimport\u001b[39;00m askopenfilename\n\u001b[0;32m      3\u001b[0m Tk()\u001b[39m.\u001b[39mwithdraw() \u001b[39m# we don't want a full GUI, so keep the root window from appearing\u001b[39;00m\n\u001b[1;32m----> 4\u001b[0m filename \u001b[39m=\u001b[39m askopenfilename(parent\u001b[39m=\u001b[39;49mroot,mode\u001b[39m=\u001b[39;49m\u001b[39m'\u001b[39;49m\u001b[39mr\u001b[39;49m\u001b[39m'\u001b[39;49m,filetypes\u001b[39m=\u001b[39;49m[(\u001b[39m\"\u001b[39;49m\u001b[39mExcel file\u001b[39;49m\u001b[39m\"\u001b[39;49m,\u001b[39m\"\u001b[39;49m\u001b[39m*.xls\u001b[39;49m\u001b[39m\"\u001b[39;49m)],title\u001b[39m=\u001b[39;49m\u001b[39m'\u001b[39;49m\u001b[39mChoose an excel file\u001b[39;49m\u001b[39m'\u001b[39;49m)\n\u001b[0;32m      5\u001b[0m \u001b[39mif\u001b[39;00m filename \u001b[39m!=\u001b[39m \u001b[39mNone\u001b[39;00m:\n\u001b[0;32m      6\u001b[0m     \u001b[39mprint\u001b[39m (\u001b[39m\"\u001b[39m\u001b[39mThis excel file has been selected\u001b[39m\u001b[39m\"\u001b[39m, file)\n",
      "File \u001b[1;32mC:\\Program Files\\WindowsApps\\PythonSoftwareFoundation.Python.3.10_3.10.2800.0_x64__qbz5n2kfra8p0\\lib\\tkinter\\filedialog.py:384\u001b[0m, in \u001b[0;36maskopenfilename\u001b[1;34m(**options)\u001b[0m\n\u001b[0;32m    381\u001b[0m \u001b[39mdef\u001b[39;00m \u001b[39maskopenfilename\u001b[39m(\u001b[39m*\u001b[39m\u001b[39m*\u001b[39moptions):\n\u001b[0;32m    382\u001b[0m     \u001b[39m\"\u001b[39m\u001b[39mAsk for a filename to open\u001b[39m\u001b[39m\"\u001b[39m\n\u001b[1;32m--> 384\u001b[0m     \u001b[39mreturn\u001b[39;00m Open(\u001b[39m*\u001b[39;49m\u001b[39m*\u001b[39;49moptions)\u001b[39m.\u001b[39;49mshow()\n",
      "File \u001b[1;32mC:\\Program Files\\WindowsApps\\PythonSoftwareFoundation.Python.3.10_3.10.2800.0_x64__qbz5n2kfra8p0\\lib\\tkinter\\commondialog.py:45\u001b[0m, in \u001b[0;36mDialog.show\u001b[1;34m(self, **options)\u001b[0m\n\u001b[0;32m     43\u001b[0m \u001b[39mtry\u001b[39;00m:\n\u001b[0;32m     44\u001b[0m     \u001b[39mself\u001b[39m\u001b[39m.\u001b[39m_test_callback(master)  \u001b[39m# The function below is replaced for some tests.\u001b[39;00m\n\u001b[1;32m---> 45\u001b[0m     s \u001b[39m=\u001b[39m master\u001b[39m.\u001b[39;49mtk\u001b[39m.\u001b[39;49mcall(\u001b[39mself\u001b[39;49m\u001b[39m.\u001b[39;49mcommand, \u001b[39m*\u001b[39;49mmaster\u001b[39m.\u001b[39;49m_options(\u001b[39mself\u001b[39;49m\u001b[39m.\u001b[39;49moptions))\n\u001b[0;32m     46\u001b[0m     s \u001b[39m=\u001b[39m \u001b[39mself\u001b[39m\u001b[39m.\u001b[39m_fixresult(master, s)\n\u001b[0;32m     47\u001b[0m \u001b[39mfinally\u001b[39;00m:\n",
      "\u001b[1;31mTclError\u001b[0m: can't invoke \"tk_getOpenFile\" command: application has been destroyed"
     ]
    }
   ],
   "source": [
    "from tkinter import Tk\n",
    "from tkinter.filedialog import askopenfilename\n",
    "Tk().withdraw() # we don't want a full GUI, so keep the root window from appearing\n",
    "filename = askopenfilename(parent=root,mode='r',filetypes=[(\"Excel file\",\"*.xls\")],title='Choose an excel file')\n",
    "if filename != None:\n",
    "    print (\"This excel file has been selected\", file)"
   ]
  }
 ],
 "metadata": {
  "kernelspec": {
   "display_name": "Python 3",
   "language": "python",
   "name": "python3"
  },
  "language_info": {
   "codemirror_mode": {
    "name": "ipython",
    "version": 3
   },
   "file_extension": ".py",
   "mimetype": "text/x-python",
   "name": "python",
   "nbconvert_exporter": "python",
   "pygments_lexer": "ipython3",
   "version": "3.10.10"
  },
  "orig_nbformat": 4
 },
 "nbformat": 4,
 "nbformat_minor": 2
}
