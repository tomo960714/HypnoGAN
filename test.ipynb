{
 "cells": [
  {
   "cell_type": "code",
   "execution_count": null,
   "metadata": {},
   "outputs": [],
   "source": [
    "import os\n",
    "XML_folder = \"Data\\SHHS\\shhs\\polysomnography\\\\annotations-events-nsrr\"\n",
    "edf_folder = \"Data\\SHHS\\shhs\\polysomnography\\\\edfs\""
   ]
  },
  {
   "cell_type": "code",
   "execution_count": null,
   "metadata": {},
   "outputs": [],
   "source": [
    "for folder in os.listdir(XML_folder):\n",
    "    # if folder does not exist, create it\n",
    "    print(os.path.join(edf_folder, folder))\n",
    "    if os.path.isdir(os.path.join(edf_folder, folder)) == False:\n",
    "        os.mkdir(os.path.join(edf_folder, folder))\n",
    "\n",
    "\n",
    "    for file in os.listdir(os.path.join(XML_folder, folder)):\n",
    "        \n",
    "        if file.endswith(\".xml\"):\n",
    "            #remove the .xml extension\n",
    "            file = file[:-9]+\".edf\"\n",
    "            # create a empty text file\n",
    "            # in current directory\n",
    "            print(f\"edf_folder: {edf_folder}, folder: {folder},\")\n",
    "            fp = open(os.path.join(edf_folder, folder,file), 'x')\n",
    "            fp.close()\n",
    "    "
   ]
  },
  {
   "cell_type": "code",
   "execution_count": 2,
   "metadata": {},
   "outputs": [
    {
     "ename": "ValueError",
     "evalue": "all the input arrays must have same number of dimensions, but the array at index 0 has 1 dimension(s) and the array at index 1 has 2 dimension(s)",
     "output_type": "error",
     "traceback": [
      "\u001b[1;31m---------------------------------------------------------------------------\u001b[0m",
      "\u001b[1;31mValueError\u001b[0m                                Traceback (most recent call last)",
      "Cell \u001b[1;32mIn[2], line 8\u001b[0m\n\u001b[0;32m      5\u001b[0m my_array \u001b[39m=\u001b[39m np\u001b[39m.\u001b[39mzeros((\u001b[39m2\u001b[39m, \u001b[39m100\u001b[39m))\n\u001b[0;32m      7\u001b[0m \u001b[39m# Concatenate the string and array into a single array\u001b[39;00m\n\u001b[1;32m----> 8\u001b[0m result \u001b[39m=\u001b[39m np\u001b[39m.\u001b[39;49mconcatenate(([my_string], my_array))\n\u001b[0;32m     10\u001b[0m \u001b[39m# Print the resulting array\u001b[39;00m\n\u001b[0;32m     11\u001b[0m \u001b[39mprint\u001b[39m(result)\n",
      "File \u001b[1;32m<__array_function__ internals>:200\u001b[0m, in \u001b[0;36mconcatenate\u001b[1;34m(*args, **kwargs)\u001b[0m\n",
      "\u001b[1;31mValueError\u001b[0m: all the input arrays must have same number of dimensions, but the array at index 0 has 1 dimension(s) and the array at index 1 has 2 dimension(s)"
     ]
    }
   ],
   "source": [
    "import numpy as np\n",
    "\n",
    "# Create a sample string and array\n",
    "my_string = \"Hello\"\n",
    "my_array = np.zeros((2, 100))\n",
    "\n",
    "# Concatenate the string and array into a single array\n",
    "result = np.concatenate(([my_string], my_array))\n",
    "\n",
    "# Print the resulting array\n",
    "print(result)\n"
   ]
  },
  {
   "cell_type": "code",
   "execution_count": null,
   "metadata": {},
   "outputs": [],
   "source": []
  }
 ],
 "metadata": {
  "kernelspec": {
   "display_name": "Python 3",
   "language": "python",
   "name": "python3"
  },
  "language_info": {
   "codemirror_mode": {
    "name": "ipython",
    "version": 3
   },
   "file_extension": ".py",
   "mimetype": "text/x-python",
   "name": "python",
   "nbconvert_exporter": "python",
   "pygments_lexer": "ipython3",
   "version": "3.10.10"
  },
  "orig_nbformat": 4
 },
 "nbformat": 4,
 "nbformat_minor": 2
}
