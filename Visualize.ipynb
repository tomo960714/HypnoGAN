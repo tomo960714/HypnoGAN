{
 "cells": [
  {
   "cell_type": "code",
   "execution_count": 4,
   "id": "8d17680a-1c2f-4179-8a1e-4e2b424b122d",
   "metadata": {},
   "outputs": [],
   "source": [
    "# -*- coding: UTF-8 -*-\n",
    "\n",
    "# Local packages:\n",
    "import os\n",
    "\n",
    "import pickle\n",
    "import random\n",
    "import time\n",
    "\n",
    "# 3rd party packages:\n",
    "import matplotlib.pyplot as plt\n",
    "import numpy as np\n",
    "import pandas as pd\n",
    "import seaborn as sns\n",
    "from sklearn.manifold import TSNE\n",
    "from sklearn.decomposition import PCA\n",
    "\n",
    "\n",
    "%matplotlib inline"
   ]
  },
  {
   "cell_type": "code",
   "execution_count": 8,
   "id": "f16462af",
   "metadata": {},
   "outputs": [],
   "source": [
    "def visualization(ori_data, generated_data, analysis):\n",
    "  \"\"\"Using PCA or tSNE for generated and original data visualization.\n",
    "  \n",
    "  Args:\n",
    "    - ori_data: original data\n",
    "    - generated_data: generated synthetic data\n",
    "    - analysis: tsne or pca\n",
    "  \"\"\"  \n",
    "  # Analysis sample size (for faster computation)\n",
    "  anal_sample_no = min([1000, len(ori_data)])\n",
    "  idx = np.random.permutation(len(ori_data))[:anal_sample_no]\n",
    "    \n",
    "  # Data preprocessing\n",
    "  ori_data = np.asarray(ori_data)\n",
    "  generated_data = np.asarray(generated_data)  \n",
    "  \n",
    "  ori_data = ori_data[idx]\n",
    "  generated_data = generated_data[idx]\n",
    "  \n",
    "  no, seq_len, dim = ori_data.shape  \n",
    "  \n",
    "  for i in range(anal_sample_no):\n",
    "    if (i == 0):\n",
    "      prep_data = np.reshape(np.mean(ori_data[0,:,:], 1), [1,seq_len])\n",
    "      prep_data_hat = np.reshape(np.mean(generated_data[0,:,:],1), [1,seq_len])\n",
    "    else:\n",
    "      prep_data = np.concatenate((prep_data, \n",
    "                                  np.reshape(np.mean(ori_data[i,:,:],1), [1,seq_len])))\n",
    "      prep_data_hat = np.concatenate((prep_data_hat, \n",
    "                                      np.reshape(np.mean(generated_data[i,:,:],1), [1,seq_len])))\n",
    "    \n",
    "  # Visualization parameter        \n",
    "  colors = [\"tab:blue\" for i in range(anal_sample_no)] + [\"tab:orange\" for i in range(anal_sample_no)]    \n",
    "    \n",
    "  if analysis == 'pca':\n",
    "    # PCA Analysis\n",
    "    #pca = PCA(n_components = 2)\n",
    "    pca = PCA()\n",
    "    pca.fit(prep_data)\n",
    "    pca_results = pca.transform(prep_data)\n",
    "    pca_hat_results = pca.transform(prep_data_hat)\n",
    "    \n",
    "    # Plotting\n",
    "    f, ax = plt.subplots(1)    \n",
    "    plt.scatter(pca_results[:,0], pca_results[:,1],\n",
    "                c = colors[:anal_sample_no], alpha = 0.2, label = \"Original\")\n",
    "    plt.scatter(pca_hat_results[:,0], pca_hat_results[:,1], \n",
    "                c = colors[anal_sample_no:], alpha = 0.2, label = \"Synthetic\")\n",
    "  \n",
    "    ax.legend()\n",
    "    plt.title('PCA plot')\n",
    "    plt.xlabel('x-pca')\n",
    "    plt.ylabel('y_pca')\n",
    "    plt.show()\n",
    "    \n",
    "  elif analysis == 'tsne':\n",
    "    \n",
    "    # Do t-SNE Analysis together       \n",
    "    prep_data_final = np.concatenate((prep_data, prep_data_hat), axis = 0)\n",
    "    \n",
    "    # TSNE anlaysis\n",
    "    tsne = TSNE(n_components = 2, verbose = 1, perplexity = 40, n_iter = 300)\n",
    "    tsne_results = tsne.fit_transform(prep_data_final)\n",
    "      \n",
    "    # Plotting\n",
    "    f, ax = plt.subplots(1)\n",
    "      \n",
    "    plt.scatter(tsne_results[:anal_sample_no,0], tsne_results[:anal_sample_no,1], \n",
    "                c = colors[:anal_sample_no], alpha = 0.2, label = \"Original\")\n",
    "    plt.scatter(tsne_results[anal_sample_no:,0], tsne_results[anal_sample_no:,1], \n",
    "                c = colors[anal_sample_no:], alpha = 0.2, label = \"Synthetic\")\n",
    "  \n",
    "    ax.legend()\n",
    "      \n",
    "    plt.title('t-SNE plot')\n",
    "    plt.xlabel('x-tsne')\n",
    "    plt.ylabel('y_tsne')\n",
    "    plt.show()"
   ]
  },
  {
   "cell_type": "code",
   "execution_count": 9,
   "id": "c5f08121",
   "metadata": {},
   "outputs": [],
   "source": [
    "exp = \"test\"\n",
    "\n",
    "#create output folder path from experiment name\n",
    "output_path = os.path.join(os.getcwd(), \"Output\", exp)\n",
    "\n",
    "with open(os.path.join(output_path, \"train_data.pickle\"), \"rb\") as fb:\n",
    "    ori_data = pickle.load(fb)\n",
    "\n",
    "with open(os.path.join(output_path, \"fake_data.pickle\"), \"rb\") as fb:\n",
    "    fake_data = pickle.load(fb)\n",
    "\n"
   ]
  },
  {
   "attachments": {},
   "cell_type": "markdown",
   "id": "94b5aef8",
   "metadata": {},
   "source": [
    "# Visualization\n",
    "## PCA"
   ]
  },
  {
   "cell_type": "code",
   "execution_count": 10,
   "id": "0abed2ad",
   "metadata": {},
   "outputs": [
    {
     "name": "stderr",
     "output_type": "stream",
     "text": [
      "c:\\Users\\tomo9\\miniconda3\\lib\\site-packages\\sklearn\\decomposition\\_pca.py:543: RuntimeWarning: invalid value encountered in divide\n",
      "  explained_variance_ = (S**2) / (n_samples - 1)\n"
     ]
    },
    {
     "ename": "IndexError",
     "evalue": "index 1 is out of bounds for axis 1 with size 1",
     "output_type": "error",
     "traceback": [
      "\u001b[1;31m---------------------------------------------------------------------------\u001b[0m",
      "\u001b[1;31mIndexError\u001b[0m                                Traceback (most recent call last)",
      "\u001b[1;32me:\\98_GitRepo\\00_HypnoGAN\\HypnoGAN\\Visualize.ipynb Cell 5\u001b[0m in \u001b[0;36m1\n\u001b[1;32m----> <a href='vscode-notebook-cell:/e%3A/98_GitRepo/00_HypnoGAN/HypnoGAN/Visualize.ipynb#W2sZmlsZQ%3D%3D?line=0'>1</a>\u001b[0m visualization(ori_data, fake_data, \u001b[39m'\u001b[39;49m\u001b[39mpca\u001b[39;49m\u001b[39m'\u001b[39;49m)\n",
      "\u001b[1;32me:\\98_GitRepo\\00_HypnoGAN\\HypnoGAN\\Visualize.ipynb Cell 5\u001b[0m in \u001b[0;36m4\n\u001b[0;32m     <a href='vscode-notebook-cell:/e%3A/98_GitRepo/00_HypnoGAN/HypnoGAN/Visualize.ipynb#W2sZmlsZQ%3D%3D?line=42'>43</a>\u001b[0m \u001b[39m# Plotting\u001b[39;00m\n\u001b[0;32m     <a href='vscode-notebook-cell:/e%3A/98_GitRepo/00_HypnoGAN/HypnoGAN/Visualize.ipynb#W2sZmlsZQ%3D%3D?line=43'>44</a>\u001b[0m f, ax \u001b[39m=\u001b[39m plt\u001b[39m.\u001b[39msubplots(\u001b[39m1\u001b[39m)    \n\u001b[1;32m---> <a href='vscode-notebook-cell:/e%3A/98_GitRepo/00_HypnoGAN/HypnoGAN/Visualize.ipynb#W2sZmlsZQ%3D%3D?line=44'>45</a>\u001b[0m plt\u001b[39m.\u001b[39mscatter(pca_results[:,\u001b[39m0\u001b[39m], pca_results[:,\u001b[39m1\u001b[39;49m],\n\u001b[0;32m     <a href='vscode-notebook-cell:/e%3A/98_GitRepo/00_HypnoGAN/HypnoGAN/Visualize.ipynb#W2sZmlsZQ%3D%3D?line=45'>46</a>\u001b[0m             c \u001b[39m=\u001b[39m colors[:anal_sample_no], alpha \u001b[39m=\u001b[39m \u001b[39m0.2\u001b[39m, label \u001b[39m=\u001b[39m \u001b[39m\"\u001b[39m\u001b[39mOriginal\u001b[39m\u001b[39m\"\u001b[39m)\n\u001b[0;32m     <a href='vscode-notebook-cell:/e%3A/98_GitRepo/00_HypnoGAN/HypnoGAN/Visualize.ipynb#W2sZmlsZQ%3D%3D?line=46'>47</a>\u001b[0m plt\u001b[39m.\u001b[39mscatter(pca_hat_results[:,\u001b[39m0\u001b[39m], pca_hat_results[:,\u001b[39m1\u001b[39m], \n\u001b[0;32m     <a href='vscode-notebook-cell:/e%3A/98_GitRepo/00_HypnoGAN/HypnoGAN/Visualize.ipynb#W2sZmlsZQ%3D%3D?line=47'>48</a>\u001b[0m             c \u001b[39m=\u001b[39m colors[anal_sample_no:], alpha \u001b[39m=\u001b[39m \u001b[39m0.2\u001b[39m, label \u001b[39m=\u001b[39m \u001b[39m\"\u001b[39m\u001b[39mSynthetic\u001b[39m\u001b[39m\"\u001b[39m)\n\u001b[0;32m     <a href='vscode-notebook-cell:/e%3A/98_GitRepo/00_HypnoGAN/HypnoGAN/Visualize.ipynb#W2sZmlsZQ%3D%3D?line=49'>50</a>\u001b[0m ax\u001b[39m.\u001b[39mlegend()\n",
      "\u001b[1;31mIndexError\u001b[0m: index 1 is out of bounds for axis 1 with size 1"
     ]
    },
    {
     "data": {
      "image/png": "[encoded data removed]",
      "text/plain": [
       "<Figure size 640x480 with 1 Axes>"
      ]
     },
     "metadata": {},
     "output_type": "display_data"
    }
   ],
   "source": [
    "visualization(ori_data, fake_data, 'pca')"
   ]
  },
  {
   "attachments": {},
   "cell_type": "markdown",
   "id": "e16cef2a",
   "metadata": {},
   "source": [
    "## TSNE"
   ]
  },
  {
   "cell_type": "code",
   "execution_count": 11,
   "id": "d44ad25a",
   "metadata": {},
   "outputs": [
    {
     "ename": "ValueError",
     "evalue": "perplexity must be less than n_samples",
     "output_type": "error",
     "traceback": [
      "\u001b[1;31m---------------------------------------------------------------------------\u001b[0m",
      "\u001b[1;31mValueError\u001b[0m                                Traceback (most recent call last)",
      "\u001b[1;32me:\\98_GitRepo\\00_HypnoGAN\\HypnoGAN\\Visualize.ipynb Cell 7\u001b[0m in \u001b[0;36m1\n\u001b[1;32m----> <a href='vscode-notebook-cell:/e%3A/98_GitRepo/00_HypnoGAN/HypnoGAN/Visualize.ipynb#W5sZmlsZQ%3D%3D?line=0'>1</a>\u001b[0m visualization(ori_data, fake_data, \u001b[39m'\u001b[39;49m\u001b[39mtsne\u001b[39;49m\u001b[39m'\u001b[39;49m)\n",
      "\u001b[1;32me:\\98_GitRepo\\00_HypnoGAN\\HypnoGAN\\Visualize.ipynb Cell 7\u001b[0m in \u001b[0;36m6\n\u001b[0;32m     <a href='vscode-notebook-cell:/e%3A/98_GitRepo/00_HypnoGAN/HypnoGAN/Visualize.ipynb#W5sZmlsZQ%3D%3D?line=60'>61</a>\u001b[0m \u001b[39m# TSNE anlaysis\u001b[39;00m\n\u001b[0;32m     <a href='vscode-notebook-cell:/e%3A/98_GitRepo/00_HypnoGAN/HypnoGAN/Visualize.ipynb#W5sZmlsZQ%3D%3D?line=61'>62</a>\u001b[0m tsne \u001b[39m=\u001b[39m TSNE(n_components \u001b[39m=\u001b[39m \u001b[39m2\u001b[39m, verbose \u001b[39m=\u001b[39m \u001b[39m1\u001b[39m, perplexity \u001b[39m=\u001b[39m \u001b[39m40\u001b[39m, n_iter \u001b[39m=\u001b[39m \u001b[39m300\u001b[39m)\n\u001b[1;32m---> <a href='vscode-notebook-cell:/e%3A/98_GitRepo/00_HypnoGAN/HypnoGAN/Visualize.ipynb#W5sZmlsZQ%3D%3D?line=62'>63</a>\u001b[0m tsne_results \u001b[39m=\u001b[39m tsne\u001b[39m.\u001b[39;49mfit_transform(prep_data_final)\n\u001b[0;32m     <a href='vscode-notebook-cell:/e%3A/98_GitRepo/00_HypnoGAN/HypnoGAN/Visualize.ipynb#W5sZmlsZQ%3D%3D?line=64'>65</a>\u001b[0m \u001b[39m# Plotting\u001b[39;00m\n\u001b[0;32m     <a href='vscode-notebook-cell:/e%3A/98_GitRepo/00_HypnoGAN/HypnoGAN/Visualize.ipynb#W5sZmlsZQ%3D%3D?line=65'>66</a>\u001b[0m f, ax \u001b[39m=\u001b[39m plt\u001b[39m.\u001b[39msubplots(\u001b[39m1\u001b[39m)\n",
      "File \u001b[1;32mc:\\Users\\tomo9\\miniconda3\\lib\\site-packages\\sklearn\\manifold\\_t_sne.py:1118\u001b[0m, in \u001b[0;36mTSNE.fit_transform\u001b[1;34m(self, X, y)\u001b[0m\n\u001b[0;32m   1097\u001b[0m \u001b[39m\"\"\"Fit X into an embedded space and return that transformed output.\u001b[39;00m\n\u001b[0;32m   1098\u001b[0m \n\u001b[0;32m   1099\u001b[0m \u001b[39mParameters\u001b[39;00m\n\u001b[1;32m   (...)\u001b[0m\n\u001b[0;32m   1115\u001b[0m \u001b[39m    Embedding of the training data in low-dimensional space.\u001b[39;00m\n\u001b[0;32m   1116\u001b[0m \u001b[39m\"\"\"\u001b[39;00m\n\u001b[0;32m   1117\u001b[0m \u001b[39mself\u001b[39m\u001b[39m.\u001b[39m_validate_params()\n\u001b[1;32m-> 1118\u001b[0m \u001b[39mself\u001b[39;49m\u001b[39m.\u001b[39;49m_check_params_vs_input(X)\n\u001b[0;32m   1119\u001b[0m embedding \u001b[39m=\u001b[39m \u001b[39mself\u001b[39m\u001b[39m.\u001b[39m_fit(X)\n\u001b[0;32m   1120\u001b[0m \u001b[39mself\u001b[39m\u001b[39m.\u001b[39membedding_ \u001b[39m=\u001b[39m embedding\n",
      "File \u001b[1;32mc:\\Users\\tomo9\\miniconda3\\lib\\site-packages\\sklearn\\manifold\\_t_sne.py:829\u001b[0m, in \u001b[0;36mTSNE._check_params_vs_input\u001b[1;34m(self, X)\u001b[0m\n\u001b[0;32m    827\u001b[0m \u001b[39mdef\u001b[39;00m \u001b[39m_check_params_vs_input\u001b[39m(\u001b[39mself\u001b[39m, X):\n\u001b[0;32m    828\u001b[0m     \u001b[39mif\u001b[39;00m \u001b[39mself\u001b[39m\u001b[39m.\u001b[39mperplexity \u001b[39m>\u001b[39m\u001b[39m=\u001b[39m X\u001b[39m.\u001b[39mshape[\u001b[39m0\u001b[39m]:\n\u001b[1;32m--> 829\u001b[0m         \u001b[39mraise\u001b[39;00m \u001b[39mValueError\u001b[39;00m(\u001b[39m\"\u001b[39m\u001b[39mperplexity must be less than n_samples\u001b[39m\u001b[39m\"\u001b[39m)\n",
      "\u001b[1;31mValueError\u001b[0m: perplexity must be less than n_samples"
     ]
    }
   ],
   "source": [
    "visualization(ori_data, fake_data, 'tsne')"
   ]
  },
  {
   "cell_type": "code",
   "execution_count": null,
   "id": "f5f19278",
   "metadata": {},
   "outputs": [],
   "source": []
  }
 ],
 "metadata": {
  "kernelspec": {
   "display_name": "Python 3 (ipykernel)",
   "language": "python",
   "name": "python3"
  },
  "language_info": {
   "codemirror_mode": {
    "name": "ipython",
    "version": 3
   },
   "file_extension": ".py",
   "mimetype": "text/x-python",
   "name": "python",
   "nbconvert_exporter": "python",
   "pygments_lexer": "ipython3",
   "version": "3.10.10"
  }
 },
 "nbformat": 4,
 "nbformat_minor": 5
}
